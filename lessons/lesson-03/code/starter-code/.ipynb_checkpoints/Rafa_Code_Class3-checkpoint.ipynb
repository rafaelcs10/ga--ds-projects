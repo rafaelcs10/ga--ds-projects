{
 "cells": [
  {
   "cell_type": "code",
   "execution_count": 6,
   "metadata": {
    "collapsed": false
   },
   "outputs": [
    {
     "name": "stdout",
     "output_type": "stream",
     "text": [
      "2527.0\n",
      "40.0\n"
     ]
    }
   ],
   "source": [
    "import pandas as pd\n",
    "import numpy as np\n",
    "r = [12,45,15,35,55,15000]\n",
    "print np.mean(r)\n",
    "print np.median(r)"
   ]
  },
  {
   "cell_type": "code",
   "execution_count": 7,
   "metadata": {
    "collapsed": false
   },
   "outputs": [
    {
     "data": {
      "text/html": [
       "<div>\n",
       "<table border=\"1\" class=\"dataframe\">\n",
       "  <thead>\n",
       "    <tr style=\"text-align: right;\">\n",
       "      <th></th>\n",
       "      <th>Unnamed: 0</th>\n",
       "      <th>mpg</th>\n",
       "      <th>cyl</th>\n",
       "      <th>disp</th>\n",
       "      <th>hp</th>\n",
       "      <th>drat</th>\n",
       "      <th>wt</th>\n",
       "      <th>qsec</th>\n",
       "      <th>vs</th>\n",
       "      <th>am</th>\n",
       "      <th>gear</th>\n",
       "      <th>carb</th>\n",
       "    </tr>\n",
       "  </thead>\n",
       "  <tbody>\n",
       "    <tr>\n",
       "      <th>0</th>\n",
       "      <td>Mazda RX4</td>\n",
       "      <td>21.0</td>\n",
       "      <td>6</td>\n",
       "      <td>160.0</td>\n",
       "      <td>110</td>\n",
       "      <td>3.90</td>\n",
       "      <td>2.620</td>\n",
       "      <td>16.46</td>\n",
       "      <td>0</td>\n",
       "      <td>1</td>\n",
       "      <td>4</td>\n",
       "      <td>4</td>\n",
       "    </tr>\n",
       "    <tr>\n",
       "      <th>1</th>\n",
       "      <td>Mazda RX4 Wag</td>\n",
       "      <td>21.0</td>\n",
       "      <td>6</td>\n",
       "      <td>160.0</td>\n",
       "      <td>110</td>\n",
       "      <td>3.90</td>\n",
       "      <td>2.875</td>\n",
       "      <td>17.02</td>\n",
       "      <td>0</td>\n",
       "      <td>1</td>\n",
       "      <td>4</td>\n",
       "      <td>4</td>\n",
       "    </tr>\n",
       "    <tr>\n",
       "      <th>2</th>\n",
       "      <td>Datsun 710</td>\n",
       "      <td>22.8</td>\n",
       "      <td>4</td>\n",
       "      <td>108.0</td>\n",
       "      <td>93</td>\n",
       "      <td>3.85</td>\n",
       "      <td>2.320</td>\n",
       "      <td>18.61</td>\n",
       "      <td>1</td>\n",
       "      <td>1</td>\n",
       "      <td>4</td>\n",
       "      <td>1</td>\n",
       "    </tr>\n",
       "    <tr>\n",
       "      <th>3</th>\n",
       "      <td>Hornet 4 Drive</td>\n",
       "      <td>21.4</td>\n",
       "      <td>6</td>\n",
       "      <td>258.0</td>\n",
       "      <td>110</td>\n",
       "      <td>3.08</td>\n",
       "      <td>3.215</td>\n",
       "      <td>19.44</td>\n",
       "      <td>1</td>\n",
       "      <td>0</td>\n",
       "      <td>3</td>\n",
       "      <td>1</td>\n",
       "    </tr>\n",
       "    <tr>\n",
       "      <th>4</th>\n",
       "      <td>Hornet Sportabout</td>\n",
       "      <td>18.7</td>\n",
       "      <td>8</td>\n",
       "      <td>360.0</td>\n",
       "      <td>175</td>\n",
       "      <td>3.15</td>\n",
       "      <td>3.440</td>\n",
       "      <td>17.02</td>\n",
       "      <td>0</td>\n",
       "      <td>0</td>\n",
       "      <td>3</td>\n",
       "      <td>2</td>\n",
       "    </tr>\n",
       "  </tbody>\n",
       "</table>\n",
       "</div>"
      ],
      "text/plain": [
       "          Unnamed: 0   mpg  cyl   disp   hp  drat     wt   qsec  vs  am  gear  \\\n",
       "0          Mazda RX4  21.0    6  160.0  110  3.90  2.620  16.46   0   1     4   \n",
       "1      Mazda RX4 Wag  21.0    6  160.0  110  3.90  2.875  17.02   0   1     4   \n",
       "2         Datsun 710  22.8    4  108.0   93  3.85  2.320  18.61   1   1     4   \n",
       "3     Hornet 4 Drive  21.4    6  258.0  110  3.08  3.215  19.44   1   0     3   \n",
       "4  Hornet Sportabout  18.7    8  360.0  175  3.15  3.440  17.02   0   0     3   \n",
       "\n",
       "   carb  \n",
       "0     4  \n",
       "1     4  \n",
       "2     1  \n",
       "3     1  \n",
       "4     2  "
      ]
     },
     "execution_count": 7,
     "metadata": {},
     "output_type": "execute_result"
    }
   ],
   "source": [
    "mtcars = pd.read_csv(\"../mtcars.csv\")\n",
    "mtcars.head()"
   ]
  },
  {
   "cell_type": "code",
   "execution_count": 8,
   "metadata": {
    "collapsed": false
   },
   "outputs": [
    {
     "data": {
      "text/plain": [
       "Unnamed: 0    Volvo 142E\n",
       "mpg                 33.9\n",
       "cyl                    8\n",
       "disp                 472\n",
       "hp                   335\n",
       "drat                4.93\n",
       "wt                 5.424\n",
       "qsec                22.9\n",
       "vs                     1\n",
       "am                     1\n",
       "gear                   5\n",
       "carb                   8\n",
       "dtype: object"
      ]
     },
     "execution_count": 8,
     "metadata": {},
     "output_type": "execute_result"
    }
   ],
   "source": [
    "mtcars.max()"
   ]
  },
  {
   "cell_type": "code",
   "execution_count": 9,
   "metadata": {
    "collapsed": false
   },
   "outputs": [
    {
     "data": {
      "text/plain": [
       "Unnamed: 0    AMC Javelin\n",
       "mpg                  10.4\n",
       "cyl                     4\n",
       "disp                 71.1\n",
       "hp                     52\n",
       "drat                 2.76\n",
       "wt                  1.513\n",
       "qsec                 14.5\n",
       "vs                      0\n",
       "am                      0\n",
       "gear                    3\n",
       "carb                    1\n",
       "dtype: object"
      ]
     },
     "execution_count": 9,
     "metadata": {},
     "output_type": "execute_result"
    }
   ],
   "source": [
    "mtcars.min()"
   ]
  },
  {
   "cell_type": "code",
   "execution_count": 12,
   "metadata": {
    "collapsed": false
   },
   "outputs": [
    {
     "data": {
      "text/plain": [
       "mpg      20.090625\n",
       "cyl       6.187500\n",
       "disp    230.721875\n",
       "hp      146.687500\n",
       "drat      3.596563\n",
       "wt        3.217250\n",
       "qsec     17.848750\n",
       "vs        0.437500\n",
       "am        0.406250\n",
       "gear      3.687500\n",
       "carb      2.812500\n",
       "dtype: float64"
      ]
     },
     "execution_count": 12,
     "metadata": {},
     "output_type": "execute_result"
    }
   ],
   "source": [
    "mtcars.mean()"
   ]
  },
  {
   "cell_type": "code",
   "execution_count": 13,
   "metadata": {
    "collapsed": false
   },
   "outputs": [
    {
     "data": {
      "text/html": [
       "<div>\n",
       "<table border=\"1\" class=\"dataframe\">\n",
       "  <thead>\n",
       "    <tr style=\"text-align: right;\">\n",
       "      <th></th>\n",
       "      <th>Unnamed: 0</th>\n",
       "      <th>mpg</th>\n",
       "      <th>cyl</th>\n",
       "      <th>disp</th>\n",
       "      <th>hp</th>\n",
       "      <th>drat</th>\n",
       "      <th>wt</th>\n",
       "      <th>qsec</th>\n",
       "      <th>vs</th>\n",
       "      <th>am</th>\n",
       "      <th>gear</th>\n",
       "      <th>carb</th>\n",
       "    </tr>\n",
       "  </thead>\n",
       "  <tbody>\n",
       "    <tr>\n",
       "      <th>0</th>\n",
       "      <td>NaN</td>\n",
       "      <td>10.4</td>\n",
       "      <td>8.0</td>\n",
       "      <td>275.8</td>\n",
       "      <td>110.0</td>\n",
       "      <td>3.07</td>\n",
       "      <td>3.44</td>\n",
       "      <td>17.02</td>\n",
       "      <td>0.0</td>\n",
       "      <td>0.0</td>\n",
       "      <td>3.0</td>\n",
       "      <td>2.0</td>\n",
       "    </tr>\n",
       "    <tr>\n",
       "      <th>1</th>\n",
       "      <td>NaN</td>\n",
       "      <td>15.2</td>\n",
       "      <td>NaN</td>\n",
       "      <td>NaN</td>\n",
       "      <td>175.0</td>\n",
       "      <td>3.92</td>\n",
       "      <td>NaN</td>\n",
       "      <td>18.90</td>\n",
       "      <td>NaN</td>\n",
       "      <td>NaN</td>\n",
       "      <td>NaN</td>\n",
       "      <td>4.0</td>\n",
       "    </tr>\n",
       "    <tr>\n",
       "      <th>2</th>\n",
       "      <td>NaN</td>\n",
       "      <td>19.2</td>\n",
       "      <td>NaN</td>\n",
       "      <td>NaN</td>\n",
       "      <td>180.0</td>\n",
       "      <td>NaN</td>\n",
       "      <td>NaN</td>\n",
       "      <td>NaN</td>\n",
       "      <td>NaN</td>\n",
       "      <td>NaN</td>\n",
       "      <td>NaN</td>\n",
       "      <td>NaN</td>\n",
       "    </tr>\n",
       "    <tr>\n",
       "      <th>3</th>\n",
       "      <td>NaN</td>\n",
       "      <td>21.0</td>\n",
       "      <td>NaN</td>\n",
       "      <td>NaN</td>\n",
       "      <td>NaN</td>\n",
       "      <td>NaN</td>\n",
       "      <td>NaN</td>\n",
       "      <td>NaN</td>\n",
       "      <td>NaN</td>\n",
       "      <td>NaN</td>\n",
       "      <td>NaN</td>\n",
       "      <td>NaN</td>\n",
       "    </tr>\n",
       "    <tr>\n",
       "      <th>4</th>\n",
       "      <td>NaN</td>\n",
       "      <td>21.4</td>\n",
       "      <td>NaN</td>\n",
       "      <td>NaN</td>\n",
       "      <td>NaN</td>\n",
       "      <td>NaN</td>\n",
       "      <td>NaN</td>\n",
       "      <td>NaN</td>\n",
       "      <td>NaN</td>\n",
       "      <td>NaN</td>\n",
       "      <td>NaN</td>\n",
       "      <td>NaN</td>\n",
       "    </tr>\n",
       "    <tr>\n",
       "      <th>5</th>\n",
       "      <td>NaN</td>\n",
       "      <td>22.8</td>\n",
       "      <td>NaN</td>\n",
       "      <td>NaN</td>\n",
       "      <td>NaN</td>\n",
       "      <td>NaN</td>\n",
       "      <td>NaN</td>\n",
       "      <td>NaN</td>\n",
       "      <td>NaN</td>\n",
       "      <td>NaN</td>\n",
       "      <td>NaN</td>\n",
       "      <td>NaN</td>\n",
       "    </tr>\n",
       "    <tr>\n",
       "      <th>6</th>\n",
       "      <td>NaN</td>\n",
       "      <td>30.4</td>\n",
       "      <td>NaN</td>\n",
       "      <td>NaN</td>\n",
       "      <td>NaN</td>\n",
       "      <td>NaN</td>\n",
       "      <td>NaN</td>\n",
       "      <td>NaN</td>\n",
       "      <td>NaN</td>\n",
       "      <td>NaN</td>\n",
       "      <td>NaN</td>\n",
       "      <td>NaN</td>\n",
       "    </tr>\n",
       "  </tbody>\n",
       "</table>\n",
       "</div>"
      ],
      "text/plain": [
       "   Unnamed: 0   mpg  cyl   disp     hp  drat    wt   qsec   vs   am  gear  \\\n",
       "0         NaN  10.4  8.0  275.8  110.0  3.07  3.44  17.02  0.0  0.0   3.0   \n",
       "1         NaN  15.2  NaN    NaN  175.0  3.92   NaN  18.90  NaN  NaN   NaN   \n",
       "2         NaN  19.2  NaN    NaN  180.0   NaN   NaN    NaN  NaN  NaN   NaN   \n",
       "3         NaN  21.0  NaN    NaN    NaN   NaN   NaN    NaN  NaN  NaN   NaN   \n",
       "4         NaN  21.4  NaN    NaN    NaN   NaN   NaN    NaN  NaN  NaN   NaN   \n",
       "5         NaN  22.8  NaN    NaN    NaN   NaN   NaN    NaN  NaN  NaN   NaN   \n",
       "6         NaN  30.4  NaN    NaN    NaN   NaN   NaN    NaN  NaN  NaN   NaN   \n",
       "\n",
       "   carb  \n",
       "0   2.0  \n",
       "1   4.0  \n",
       "2   NaN  \n",
       "3   NaN  \n",
       "4   NaN  \n",
       "5   NaN  \n",
       "6   NaN  "
      ]
     },
     "execution_count": 13,
     "metadata": {},
     "output_type": "execute_result"
    }
   ],
   "source": [
    "mtcars.mode()"
   ]
  },
  {
   "cell_type": "code",
   "execution_count": 16,
   "metadata": {
    "collapsed": false
   },
   "outputs": [],
   "source": [
    "import matplotlib.pyplot as plt\n",
    "\n",
    "%matplotlib inline\n",
    "\n"
   ]
  },
  {
   "cell_type": "code",
   "execution_count": 29,
   "metadata": {
    "collapsed": false
   },
   "outputs": [
    {
     "data": {
      "text/plain": [
       "<matplotlib.axes._subplots.AxesSubplot at 0x7fcffecc2ed0>"
      ]
     },
     "execution_count": 29,
     "metadata": {},
     "output_type": "execute_result"
    },
    {
     "data": {
      "image/png": "[encoded data removed]",
      "text/plain": [
       "<matplotlib.figure.Figure at 0x7fcffee51350>"
      ]
     },
     "metadata": {},
     "output_type": "display_data"
    }
   ],
   "source": [
    "mtcars['mpg'].plot(kind='hist')"
   ]
  },
  {
   "cell_type": "code",
   "execution_count": 18,
   "metadata": {
    "collapsed": false
   },
   "outputs": [
    {
     "data": {
      "text/plain": [
       "<matplotlib.axes._subplots.AxesSubplot at 0x7fcfff3ab350>"
      ]
     },
     "execution_count": 18,
     "metadata": {},
     "output_type": "execute_result"
    },
    {
     "data": {
      "image/png": "[encoded data removed]",
      "text/plain": [
       "<matplotlib.figure.Figure at 0x7fcfff2c5e10>"
      ]
     },
     "metadata": {},
     "output_type": "display_data"
    }
   ],
   "source": [
    "mtcars['mpg'].plot(kind='box')"
   ]
  },
  {
   "cell_type": "code",
   "execution_count": 25,
   "metadata": {
    "collapsed": false
   },
   "outputs": [
    {
     "data": {
      "text/plain": [
       "<matplotlib.axes._subplots.AxesSubplot at 0x7fcffef40cd0>"
      ]
     },
     "execution_count": 25,
     "metadata": {},
     "output_type": "execute_result"
    },
    {
     "data": {
      "image/png": "[encoded data removed]",
      "text/plain": [
       "<matplotlib.figure.Figure at 0x7fcfff178190>"
      ]
     },
     "metadata": {},
     "output_type": "display_data"
    }
   ],
   "source": [
    "mtcars['hp'].plot(kind='hist')"
   ]
  },
  {
   "cell_type": "code",
   "execution_count": 31,
   "metadata": {
    "collapsed": false
   },
   "outputs": [],
   "source": [
    "?plt.plot()"
   ]
  },
  {
   "cell_type": "code",
   "execution_count": 32,
   "metadata": {
    "collapsed": false
   },
   "outputs": [
    {
     "data": {
      "text/plain": [
       "<matplotlib.axes._subplots.AxesSubplot at 0x7fcff69939d0>"
      ]
     },
     "execution_count": 32,
     "metadata": {},
     "output_type": "execute_result"
    },
    {
     "data": {
      "image/png": "[encoded data removed]",
      "text/plain": [
       "<matplotlib.figure.Figure at 0x7fcff6993190>"
      ]
     },
     "metadata": {},
     "output_type": "display_data"
    }
   ],
   "source": [
    "import seaborn as sns\n",
    "corr = mtcars.corr()\n",
    "sns.heatmap(corr, \n",
    "            xticklabels=corr.columns.values,\n",
    "            yticklabels=corr.columns.values)"
   ]
  },
  {
   "cell_type": "code",
   "execution_count": 33,
   "metadata": {
    "collapsed": false
   },
   "outputs": [
    {
     "data": {
      "text/plain": [
       "array([[<matplotlib.axes._subplots.AxesSubplot object at 0x7fcff6808c10>,\n",
       "        <matplotlib.axes._subplots.AxesSubplot object at 0x7fcff67a4090>,\n",
       "        <matplotlib.axes._subplots.AxesSubplot object at 0x7fcff6727290>,\n",
       "        <matplotlib.axes._subplots.AxesSubplot object at 0x7fcff6702490>,\n",
       "        <matplotlib.axes._subplots.AxesSubplot object at 0x7fcff6607590>,\n",
       "        <matplotlib.axes._subplots.AxesSubplot object at 0x7fcff65fa110>,\n",
       "        <matplotlib.axes._subplots.AxesSubplot object at 0x7fcff657e310>,\n",
       "        <matplotlib.axes._subplots.AxesSubplot object at 0x7fcff64d7e50>,\n",
       "        <matplotlib.axes._subplots.AxesSubplot object at 0x7fcff6476310>,\n",
       "        <matplotlib.axes._subplots.AxesSubplot object at 0x7fcff64047d0>,\n",
       "        <matplotlib.axes._subplots.AxesSubplot object at 0x7fcff636f250>],\n",
       "       [<matplotlib.axes._subplots.AxesSubplot object at 0x7fcff62f41d0>,\n",
       "        <matplotlib.axes._subplots.AxesSubplot object at 0x7fcff6259f90>,\n",
       "        <matplotlib.axes._subplots.AxesSubplot object at 0x7fcff61ee050>,\n",
       "        <matplotlib.axes._subplots.AxesSubplot object at 0x7fcff61518d0>,\n",
       "        <matplotlib.axes._subplots.AxesSubplot object at 0x7fcff60dba10>,\n",
       "        <matplotlib.axes._subplots.AxesSubplot object at 0x7fcff604d210>,\n",
       "        <matplotlib.axes._subplots.AxesSubplot object at 0x7fcff5fd44d0>,\n",
       "        <matplotlib.axes._subplots.AxesSubplot object at 0x7fcff5fb9f50>,\n",
       "        <matplotlib.axes._subplots.AxesSubplot object at 0x7fcff5ecc250>,\n",
       "        <matplotlib.axes._subplots.AxesSubplot object at 0x7fcff5f549d0>,\n",
       "        <matplotlib.axes._subplots.AxesSubplot object at 0x7fcff5e43250>],\n",
       "       [<matplotlib.axes._subplots.AxesSubplot object at 0x7fcff5df1290>,\n",
       "        <matplotlib.axes._subplots.AxesSubplot object at 0x7fcff5d2ef90>,\n",
       "        <matplotlib.axes._subplots.AxesSubplot object at 0x7fcff5cb4f10>,\n",
       "        <matplotlib.axes._subplots.AxesSubplot object at 0x7fcff5c27ad0>,\n",
       "        <matplotlib.axes._subplots.AxesSubplot object at 0x7fcff5bacb10>,\n",
       "        <matplotlib.axes._subplots.AxesSubplot object at 0x7fcff5b80b90>,\n",
       "        <matplotlib.axes._subplots.AxesSubplot object at 0x7fcff5a86d90>,\n",
       "        <matplotlib.axes._subplots.AxesSubplot object at 0x7fcff5a78910>,\n",
       "        <matplotlib.axes._subplots.AxesSubplot object at 0x7fcff59fed90>,\n",
       "        <matplotlib.axes._subplots.AxesSubplot object at 0x7fcff5a3d650>,\n",
       "        <matplotlib.axes._subplots.AxesSubplot object at 0x7fcff58f5cd0>],\n",
       "       [<matplotlib.axes._subplots.AxesSubplot object at 0x7fcff587dc50>,\n",
       "        <matplotlib.axes._subplots.AxesSubplot object at 0x7fcff57eda50>,\n",
       "        <matplotlib.axes._subplots.AxesSubplot object at 0x7fcff57759d0>,\n",
       "        <matplotlib.axes._subplots.AxesSubplot object at 0x7fcff56e8390>,\n",
       "        <matplotlib.axes._subplots.AxesSubplot object at 0x7fcff566f4d0>,\n",
       "        <matplotlib.axes._subplots.AxesSubplot object at 0x7fcff55d4c90>,\n",
       "        <matplotlib.axes._subplots.AxesSubplot object at 0x7fcff5559f50>,\n",
       "        <matplotlib.axes._subplots.AxesSubplot object at 0x7fcff54cda10>,\n",
       "        <matplotlib.axes._subplots.AxesSubplot object at 0x7fcff5452dd0>,\n",
       "        <matplotlib.axes._subplots.AxesSubplot object at 0x7fcff54e8510>,\n",
       "        <matplotlib.axes._subplots.AxesSubplot object at 0x7fcff534acd0>],\n",
       "       [<matplotlib.axes._subplots.AxesSubplot object at 0x7fcff5307dd0>,\n",
       "        <matplotlib.axes._subplots.AxesSubplot object at 0x7fcff52c2a50>,\n",
       "        <matplotlib.axes._subplots.AxesSubplot object at 0x7fcff51c89d0>,\n",
       "        <matplotlib.axes._subplots.AxesSubplot object at 0x7fcff51bd590>,\n",
       "        <matplotlib.axes._subplots.AxesSubplot object at 0x7fcff51435d0>,\n",
       "        <matplotlib.axes._subplots.AxesSubplot object at 0x7fcff50b5150>,\n",
       "        <matplotlib.axes._subplots.AxesSubplot object at 0x7fcff503a350>,\n",
       "        <matplotlib.axes._subplots.AxesSubplot object at 0x7fcff4fff310>,\n",
       "        <matplotlib.axes._subplots.AxesSubplot object at 0x7fcff4f13890>,\n",
       "        <matplotlib.axes._subplots.AxesSubplot object at 0x7fcff4f20d50>,\n",
       "        <matplotlib.axes._subplots.AxesSubplot object at 0x7fcff4e0ca50>],\n",
       "       [<matplotlib.axes._subplots.AxesSubplot object at 0x7fcff4d919d0>,\n",
       "        <matplotlib.axes._subplots.AxesSubplot object at 0x7fcff4d82890>,\n",
       "        <matplotlib.axes._subplots.AxesSubplot object at 0x7fcff4c8a810>,\n",
       "        <matplotlib.axes._subplots.AxesSubplot object at 0x7fcff4c7d1d0>,\n",
       "        <matplotlib.axes._subplots.AxesSubplot object at 0x7fcff4c03310>,\n",
       "        <matplotlib.axes._subplots.AxesSubplot object at 0x7fcff4b6aad0>,\n",
       "        <matplotlib.axes._subplots.AxesSubplot object at 0x7fcff4aefd90>,\n",
       "        <matplotlib.axes._subplots.AxesSubplot object at 0x7fcff4a63850>,\n",
       "        <matplotlib.axes._subplots.AxesSubplot object at 0x7fcff49e5c10>,\n",
       "        <matplotlib.axes._subplots.AxesSubplot object at 0x7fcff4a7b450>,\n",
       "        <matplotlib.axes._subplots.AxesSubplot object at 0x7fcff48deb10>],\n",
       "       [<matplotlib.axes._subplots.AxesSubplot object at 0x7fcff489bc10>,\n",
       "        <matplotlib.axes._subplots.AxesSubplot object at 0x7fcff47d8890>,\n",
       "        <matplotlib.axes._subplots.AxesSubplot object at 0x7fcff475f810>,\n",
       "        <matplotlib.axes._subplots.AxesSubplot object at 0x7fcff46d23d0>,\n",
       "        <matplotlib.axes._subplots.AxesSubplot object at 0x7fcff4657410>,\n",
       "        <matplotlib.axes._subplots.AxesSubplot object at 0x7fcff463cf50>,\n",
       "        <matplotlib.axes._subplots.AxesSubplot object at 0x7fcff4550190>,\n",
       "        <matplotlib.axes._subplots.AxesSubplot object at 0x7fcff4534c10>,\n",
       "        <matplotlib.axes._subplots.AxesSubplot object at 0x7fcff44bce10>,\n",
       "        <matplotlib.axes._subplots.AxesSubplot object at 0x7fcff442d990>,\n",
       "        <matplotlib.axes._subplots.AxesSubplot object at 0x7fcff43b3e10>],\n",
       "       [<matplotlib.axes._subplots.AxesSubplot object at 0x7fcff43f3510>,\n",
       "        <matplotlib.axes._subplots.AxesSubplot object at 0x7fcff4295e50>,\n",
       "        <matplotlib.axes._subplots.AxesSubplot object at 0x7fcff42294d0>,\n",
       "        <matplotlib.axes._subplots.AxesSubplot object at 0x7fcff41926d0>,\n",
       "        <matplotlib.axes._subplots.AxesSubplot object at 0x7fcff4117810>,\n",
       "        <matplotlib.axes._subplots.AxesSubplot object at 0x7fcff408c290>,\n",
       "        <matplotlib.axes._subplots.AxesSubplot object at 0x7fcff4011490>,\n",
       "        <matplotlib.axes._subplots.AxesSubplot object at 0x7fcff3ff5f10>,\n",
       "        <matplotlib.axes._subplots.AxesSubplot object at 0x7fcff3f08150>,\n",
       "        <matplotlib.axes._subplots.AxesSubplot object at 0x7fcff3ee3c90>,\n",
       "        <matplotlib.axes._subplots.AxesSubplot object at 0x7fcff3e80150>],\n",
       "       [<matplotlib.axes._subplots.AxesSubplot object at 0x7fcff3eb4810>,\n",
       "        <matplotlib.axes._subplots.AxesSubplot object at 0x7fcff3d79090>,\n",
       "        <matplotlib.axes._subplots.AxesSubplot object at 0x7fcff3cf0fd0>,\n",
       "        <matplotlib.axes._subplots.AxesSubplot object at 0x7fcff3c62dd0>,\n",
       "        <matplotlib.axes._subplots.AxesSubplot object at 0x7fcff3be8d50>,\n",
       "        <matplotlib.axes._subplots.AxesSubplot object at 0x7fcff3b5e710>,\n",
       "        <matplotlib.axes._subplots.AxesSubplot object at 0x7fcff3ae4850>,\n",
       "        <matplotlib.axes._subplots.AxesSubplot object at 0x7fcff3a57050>,\n",
       "        <matplotlib.axes._subplots.AxesSubplot object at 0x7fcff39dd310>,\n",
       "        <matplotlib.axes._subplots.AxesSubplot object at 0x7fcff3944d90>,\n",
       "        <matplotlib.axes._subplots.AxesSubplot object at 0x7fcff38d4190>],\n",
       "       [<matplotlib.axes._subplots.AxesSubplot object at 0x7fcff395dd50>,\n",
       "        <matplotlib.axes._subplots.AxesSubplot object at 0x7fcff37ce090>,\n",
       "        <matplotlib.axes._subplots.AxesSubplot object at 0x7fcff37fc0d0>,\n",
       "        <matplotlib.axes._subplots.AxesSubplot object at 0x7fcff3737dd0>,\n",
       "        <matplotlib.axes._subplots.AxesSubplot object at 0x7fcff36bfd50>,\n",
       "        <matplotlib.axes._subplots.AxesSubplot object at 0x7fcff3631910>,\n",
       "        <matplotlib.axes._subplots.AxesSubplot object at 0x7fcff35b6950>,\n",
       "        <matplotlib.axes._subplots.AxesSubplot object at 0x7fcff352b4d0>,\n",
       "        <matplotlib.axes._subplots.AxesSubplot object at 0x7fcff34b06d0>,\n",
       "        <matplotlib.axes._subplots.AxesSubplot object at 0x7fcff3424190>,\n",
       "        <matplotlib.axes._subplots.AxesSubplot object at 0x7fcff33a9390>],\n",
       "       [<matplotlib.axes._subplots.AxesSubplot object at 0x7fcff365a590>,\n",
       "        <matplotlib.axes._subplots.AxesSubplot object at 0x7fcff32f7e50>,\n",
       "        <matplotlib.axes._subplots.AxesSubplot object at 0x7fcff327bed0>,\n",
       "        <matplotlib.axes._subplots.AxesSubplot object at 0x7fcff31ebf50>,\n",
       "        <matplotlib.axes._subplots.AxesSubplot object at 0x7fcff3174ed0>,\n",
       "        <matplotlib.axes._subplots.AxesSubplot object at 0x7fcff30e5950>,\n",
       "        <matplotlib.axes._subplots.AxesSubplot object at 0x7fcff306ba90>,\n",
       "        <matplotlib.axes._subplots.AxesSubplot object at 0x7fcff2fdf290>,\n",
       "        <matplotlib.axes._subplots.AxesSubplot object at 0x7fcff2f65550>,\n",
       "        <matplotlib.axes._subplots.AxesSubplot object at 0x7fcff2eccfd0>,\n",
       "        <matplotlib.axes._subplots.AxesSubplot object at 0x7fcff2e5e3d0>]], dtype=object)"
      ]
     },
     "execution_count": 33,
     "metadata": {},
     "output_type": "execute_result"
    },
    {
     "data": {
      "image/png": "[encoded data removed]",
      "text/plain": [
       "<matplotlib.figure.Figure at 0x7fcff68b4110>"
      ]
     },
     "metadata": {},
     "output_type": "display_data"
    }
   ],
   "source": [
    "pd.scatter_matrix(mtcars)"
   ]
  },
  {
   "cell_type": "code",
   "execution_count": null,
   "metadata": {
    "collapsed": true
   },
   "outputs": [],
   "source": []
  }
 ],
 "metadata": {
  "kernelspec": {
   "display_name": "Python 2",
   "language": "python",
   "name": "python2"
  },
  "language_info": {
   "codemirror_mode": {
    "name": "ipython",
    "version": 2
   },
   "file_extension": ".py",
   "mimetype": "text/x-python",
   "name": "python",
   "nbconvert_exporter": "python",
   "pygments_lexer": "ipython2",
   "version": "2.7.13"
  }
 },
 "nbformat": 4,
 "nbformat_minor": 2
}
